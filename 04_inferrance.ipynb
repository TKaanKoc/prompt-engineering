{
 "cells": [
  {
   "cell_type": "code",
   "execution_count": 39,
   "metadata": {},
   "outputs": [],
   "source": [
    "import os\n",
    "import openai  # Ben bu çalışmada, openai kütüphanesinin \"openai==0.27.6\" sürümünü kullandım.\n",
    "from dotenv import load_dotenv\n",
    "import warnings\n",
    "from requests.packages.urllib3.exceptions import NotOpenSSLWarning\n",
    "\n",
    "warnings.simplefilter('ignore', NotOpenSSLWarning)\n",
    "load_dotenv()\n",
    "\n",
    "# Daha önce azure üzerinde deploy ettiğim gpt-3.5 Turbo modelini kullanacağım.\n",
    "openai.api_type = \"azure\"\n",
    "openai.api_base = os.environ.get(\"OPENAI_API_BASE\")\n",
    "openai.api_key = os.environ.get(\"OPENAI_API_KEY\")\n",
    "openai.api_version = \"2023-05-15\"\n",
    "\n",
    "DEPLOYMENT_NAME =  os.environ.get(\"OPENAI_CHAT_DEPLOYMENT_NAME\") "
   ]
  },
  {
   "cell_type": "code",
   "execution_count": 8,
   "metadata": {},
   "outputs": [],
   "source": [
    "def chat(prompt, model=DEPLOYMENT_NAME):\n",
    "    messages = [{\"role\": \"user\", \"content\": prompt}]\n",
    "    response = openai.ChatCompletion.create(\n",
    "        engine= DEPLOYMENT_NAME,\n",
    "        messages=messages,\n",
    "        temperature=0, # this is the degree of randomness of the model's output\n",
    "    )\n",
    "    return response.choices[0].message[\"content\"]"
   ]
  },
  {
   "cell_type": "markdown",
   "metadata": {},
   "source": [
    "### Sentiment Analysis"
   ]
  },
  {
   "cell_type": "code",
   "execution_count": 31,
   "metadata": {},
   "outputs": [
    {
     "name": "stdout",
     "output_type": "stream",
     "text": [
      "Positive\n"
     ]
    }
   ],
   "source": [
    "\n",
    "sampletext = f\"\"\"Yakın zamanda SGE Teknoloji, TKK LED Işık Ampulünü satın aldım ve performansından tamamen büyülendim diyebilirim. Bu sıradan bir LED ampul değil, gerçekten bir oyun değiştirici!\n",
    "\n",
    "Öncelikle, bu ampulün ürettiği parlaklık seviyesi eşsiz. İster okuma odanız için kullanın ister oturma odasında tavan ışığı olarak, mekanı etkileyici, net ve temiz bir ışıkla aydınlatıyor. Gün ışığının yakalanıp bir ampule konduğunu hissettiriyor! Ayarlanabilir parlaklık özelliği de oldukça kullanışlı, ruh halinize göre ortamı ayarlamanıza olanak tanıyor.\n",
    "\n",
    "SGE Teknoloji, TKK LED Işık Ampulünün enerji verimliliği özellikle bahsedilmeyi hak ediyor. Yüksek parlaklığına rağmen, geleneksel ampullere kıyasla önemli ölçüde daha az enerji tüketiyor. Enerji maliyetlerini düşürmeyi hedefleyen herkes için büyük bir artı. Elektrik faturamızda bile fark edilir bir azalma oldu, bu ampul kesinlikle değerli bir yatırım.\n",
    "\n",
    "Ömür açısından, TKK LED diğer kullandığım tüm ampullerden daha iyi performans gösteriyor. Üç ay oldu ve hala ilk takıldığı günkü kadar parlak. Üretici 25,000 saat ömür vaat ediyor ve şimdiye kadar gösterdiği performansı göz önünde bulundurursak, bu iddiayı sorgulamak için hiçbir sebep yok.\n",
    "\n",
    "Ampulün tasarımı şık ve modern, evimizin çağdaş dekorasyonuyla iyi uyum sağlıyor. Kurulumu kolay ve Koç'tan bir ürünle ilgili bir sorum olduğunda müşteri hizmetleri mükemmeldi.\n",
    "\n",
    "Sonuç olarak, TKK LED Işık Ampulü, her açıdan beklentilerimi aştı. Parlak, enerji verimli, uzun ömürlü ve iyi tasarlanmış. Sadece bir ışık ampulü değil, her ev için akıllıca bir yatırım. Üstün bir aydınlatma çözümü arayan herkese bu ürünü şiddetle tavsiye ederim.\"\"\"\n",
    "\n",
    "prompt = f\"\"\"\n",
    "Aşağıda kullanıcı tarafından yapılan ürün yorumunun duygusu nedir, sentiment analaysis yap.\n",
    "iki çizgi arasına yerleştirilmiş olan? Metini incele.\n",
    "Bana cevabını bir kelimeyle ver. (Positive, Negative ve benzeri)\n",
    "---\n",
    "{sampletext}\n",
    "---\n",
    "\"\"\"\n",
    "response = chat(prompt)\n",
    "print(response)"
   ]
  },
  {
   "cell_type": "markdown",
   "metadata": {},
   "source": [
    "### Entity and Keyword Detection"
   ]
  },
  {
   "cell_type": "code",
   "execution_count": 32,
   "metadata": {},
   "outputs": [
    {
     "name": "stdout",
     "output_type": "stream",
     "text": [
      "{\n",
      "    \"ürün\": \"TKK LED Işık Ampulü\",\n",
      "    \"üretici\": \"SGE Teknoloji\"\n",
      "}\n"
     ]
    }
   ],
   "source": [
    "prompt = f\"\"\"\n",
    "Aşağıda kullanıcı tarafından yapılan yorumdan belirtilen öğeleneri çıkar.\n",
    "- İnceleyen kişinin satın aldığı ürün\n",
    "- Ürünü üreten şirket\n",
    "\n",
    "Listeyi bir JSON dizisinde sağlayın.\n",
    "\n",
    "---\n",
    "{sampletext}\n",
    "---\n",
    "\"\"\"\n",
    "response = chat(prompt)\n",
    "print(response)"
   ]
  },
  {
   "cell_type": "markdown",
   "metadata": {},
   "source": [
    "### Inferring Specifications"
   ]
  },
  {
   "cell_type": "code",
   "execution_count": 35,
   "metadata": {},
   "outputs": [
    {
     "name": "stdout",
     "output_type": "stream",
     "text": [
      "Olumlu Özellikler:\n",
      "- Eşsiz parlaklık seviyesi\n",
      "- Net ve temiz ışık\n",
      "- Ayarlanabilir parlaklık özelliği\n",
      "- Yüksek enerji verimliliği\n",
      "- Uzun ömürlü\n",
      "- Şık ve modern tasarım\n",
      "- Kolay kurulum\n",
      "- Mükemmel müşteri hizmetleri\n",
      "\n",
      "Olumsuz Özellikler: N/A\n",
      "\n",
      "Ürün Spesifikasyonu:\n",
      "- Ampul tipi: LED\n",
      "- Parlaklık seviyesi: Yüksek\n",
      "- Ayarlanabilir parlaklık: Var\n",
      "- Enerji verimliliği: Yüksek\n",
      "- Ömür: 25,000 saat\n",
      "- Tasarım: Şık ve modern\n",
      "- Kurulum: Kolay\n",
      "- Müşteri hizmetleri: Mükemmel\n"
     ]
    }
   ],
   "source": [
    "prompt = f\"\"\"\n",
    "Incelenen metinde, çizgilerle ayrılan bölümden aşağıdaki unsurları belirleyin:\n",
    "\n",
    "- Üründe olumlu (positive sentiment) izlenim yaratan özellikler (features)\n",
    "- Üründe olumsuz (negative sentiment) izlenim yaratan özellikler (features)\n",
    "\n",
    "Tüm özellik ve yönleri, bir ürün spesifikasyonu şeklinde yeniden ifade edin.\n",
    "\n",
    "Her bir duygu altında spesifikasyonların (Özelliklerin değil) listesini sunun.\n",
    "---\n",
    "{sampletext}\n",
    "---\n",
    "\"\"\"\n",
    "response = chat(prompt)\n",
    "print(response)"
   ]
  },
  {
   "cell_type": "markdown",
   "metadata": {},
   "source": [
    "### Intent Detection"
   ]
  },
  {
   "cell_type": "code",
   "execution_count": 49,
   "metadata": {},
   "outputs": [
    {
     "name": "stdout",
     "output_type": "stream",
     "text": [
      "{\n",
      "  \"action\": \"Uçuş rezervasyonu yapmak\",\n",
      "  \"keywords\": [\"bilet\", \"İstanbul havaalanı\", \"Paris\", \"yarin\", \"08:00\"],\n",
      "  \"destination\": \"Paris\",\n",
      "  \"time\": \"08:00\",\n",
      "  \"date\": \"9 Eylül 2023\",\n",
      "  \"source\": \"İstanbul havaalanı\"\n",
      "}\n"
     ]
    }
   ],
   "source": [
    "sample_text_tr = f\"\"\"Yarın saat 08:00 için İstanbul havaalanından Paris'e bilet alabilir miyim?\"\"\"\n",
    "\n",
    "prompt = f\"\"\"\n",
    "Aşağıda listelenen eylemleri göz önünde bulundurun\n",
    "- Uçuş rezervasyonu yapmak\n",
    "- Araba kiralamak\n",
    "- Otobüs bileti satın almak\n",
    "\n",
    "İki çizgi arasında verilen aşağıdaki metne dayanarak\n",
    "- kullanıcının hangi eylemi gerçekleştirmeye çalıştığı (action)\n",
    "- metinden eylemle ilgili olan anahtar kelimeleri çıkarın (keywords)\n",
    "- bulunursa eylemin hedefini belirtin (destination)\n",
    "- bulunursa eylem için bir zaman belirtin (time)\n",
    "- bulunursa eylem için bir tarih belirtin. Bugün 8 Eylül 2023. (date)\n",
    "- bulunursa eylemin kaynağını belirtin (nerden nereye) (source)\n",
    "\n",
    "Yanıtınızı bir JSON nesnesi olarak verin.\n",
    "---\n",
    "{sample_text_tr}\n",
    "---\n",
    "\"\"\"\n",
    "\n",
    "response = chat(prompt)\n",
    "print(response)"
   ]
  },
  {
   "cell_type": "code",
   "execution_count": null,
   "metadata": {},
   "outputs": [],
   "source": []
  }
 ],
 "metadata": {
  "kernelspec": {
   "display_name": "openai-qna-env",
   "language": "python",
   "name": "python3"
  },
  "language_info": {
   "codemirror_mode": {
    "name": "ipython",
    "version": 3
   },
   "file_extension": ".py",
   "mimetype": "text/x-python",
   "name": "python",
   "nbconvert_exporter": "python",
   "pygments_lexer": "ipython3",
   "version": "3.9.6"
  },
  "orig_nbformat": 4,
  "vscode": {
   "interpreter": {
    "hash": "c4ee1bbf3137c7ea9420c4fd488a55642063e5739fe2a7286130d9ba47405b69"
   }
  }
 },
 "nbformat": 4,
 "nbformat_minor": 2
}
