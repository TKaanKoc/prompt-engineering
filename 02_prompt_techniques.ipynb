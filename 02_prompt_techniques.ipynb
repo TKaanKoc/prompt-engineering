{
 "cells": [
  {
   "cell_type": "code",
   "execution_count": 9,
   "metadata": {},
   "outputs": [],
   "source": [
    "import os\n",
    "import tiktoken\n",
    "import openai  # Ben bu çalışmada, openai kütüphanesinin \"openai==0.27.6\" sürümünü kullandım.\n",
    "from dotenv import load_dotenv\n",
    "import warnings\n",
    "from requests.packages.urllib3.exceptions import NotOpenSSLWarning\n",
    "\n",
    "warnings.simplefilter('ignore', NotOpenSSLWarning)\n",
    "load_dotenv()\n",
    "\n",
    "# Daha önce azure üzerinde deploy ettiğim gpt-3.5 Turbo modelini kullanacağım.\n",
    "openai.api_type = \"azure\"\n",
    "openai.api_base = os.environ.get(\"OPENAI_API_BASE\")\n",
    "openai.api_key = os.environ.get(\"OPENAI_API_KEY\")\n",
    "openai.api_version = \"2023-05-15\"\n",
    "\n",
    "DEPLOYMENT_NAME =  os.environ.get(\"OPENAI_CHAT_DEPLOYMENT_NAME\") "
   ]
  },
  {
   "cell_type": "code",
   "execution_count": 2,
   "metadata": {},
   "outputs": [],
   "source": [
    "def chat(prompt, model=DEPLOYMENT_NAME):\n",
    "    messages = [{\"role\": \"user\", \"content\": prompt}]\n",
    "    response = openai.ChatCompletion.create(\n",
    "        engine= DEPLOYMENT_NAME,\n",
    "        messages=messages,\n",
    "        temperature=0, \n",
    "    )\n",
    "    return response.choices[0].message[\"content\"]"
   ]
  },
  {
   "cell_type": "markdown",
   "metadata": {},
   "source": [
    "### Self-Consistency\n",
    "\n",
    "Zincirleme düşünce (Chain of Thought - CoT) yöntemini geliştirerek, sorunlara birden fazla açıdan yaklaşım sağlamak ve en tutarlı yanıtı bulmak.\n",
    "\n",
    "Nasıl Çalışır?\n",
    "Çoklu Çıkarım Yolları: Bir soruna ilişkin farklı çıkarım yolları oluşturulur.\n",
    "En Tutarlı Yanıtın Seçimi: Bu yolların her birinden elde edilen yanıtlar değerlendirilir ve en tutarlı olanı seçilir.\n",
    "Örnek\n",
    "Bir matematik problemi için, CoT yöntemiyle farklı çözüm yolları üretilir. Her bir yolun sonucu değerlendirilir ve en mantıklı ve doğru olan yanıt seçilir. Bu, özellikle karmaşık aritmetik problemlerinde etkili bir yöntemdir. \n",
    "\n",
    "[Reference](https://arxiv.org/abs/2203.11171)\n",
    "\n",
    "![Self Consistency](./images/Self-Consistency.png)"
   ]
  },
  {
   "cell_type": "code",
   "execution_count": 3,
   "metadata": {},
   "outputs": [
    {
     "name": "stdout",
     "output_type": "stream",
     "text": [
      "Kız kardeşiniz şu anda 58 yaşında. \n",
      "\n",
      "Çözüm: \n",
      "\n",
      "Ben 12 yaşındayken kız kardeşiniz 12/2 = 6 yaşındaydı. \n",
      "\n",
      "Aradan geçen zaman: 70 - 12 = 58 yıl. \n",
      "\n",
      "Bu süre boyunca kız kardeşiniz de 58 - 6 = 52 yaşlandı. \n",
      "\n",
      "Dolayısıyla kız kardeşiniz şu anda 52 + 6 = 58 yaşında.\n"
     ]
    }
   ],
   "source": [
    "prompt = f\"\"\"\n",
    "Ben 12 yaşındayken kız kardeşim benim yaşımın yarısıydı. Şimdi 70 yaşındayım, kız kardeşim kaç yaşında?\n",
    "\"\"\"\n",
    "\n",
    "response = chat(prompt)\n",
    "print(response)"
   ]
  },
  {
   "cell_type": "code",
   "execution_count": 4,
   "metadata": {},
   "outputs": [
    {
     "name": "stdout",
     "output_type": "stream",
     "text": [
      "Benim yaşım 12 iken, kız kardeşim 6 yaşındaydı (yaşımın yarısı). Şimdi ben 70 yaşındayım, yani 70 - 12 = 58 yıl geçti. Kız kardeşim de 58 yıl daha yaşlandı, yani şimdi 6 + 58 = 64 yaşında olmalı. Cevap 64.\n"
     ]
    }
   ],
   "source": [
    "prompt = f\"\"\"\n",
    "S: Bahçede 15 ağaç var. Bahçe işçileri bugün bahçeye ağaç dikecekler. İşleri bittikten sonra,\n",
    "bahçede 21 ağaç olacak. Bahçe işçileri bugün kaç ağaç dikti?\n",
    "C: Başlangıçta 15 ağaç var. Daha sonra 21 ağaç oluyor. Fark, dikilen ağaç sayısı olmalı.\n",
    "Yani, 21 - 15 = 6 ağaç dikmişlerdir. Cevap 6.\n",
    "S: Otoparkta 3 araba var ve 2 araba daha geliyor, otoparkta kaç araba olur?\n",
    "C: Otoparkta zaten 3 araba var. 2 araba daha geliyor. Şimdi 3 + 2 = 5 araba var. Cevap 5.\n",
    "S: Leah'in 32 çikolatası var ve kız kardeşinin 42 tane. Eğer 35 tanesini yerlerse, toplamda kaç çikolata kalmış olur?\n",
    "C: Leah'in 32 çikolatası var ve Leah'in kız kardeşi 42 tane var. Bu, başlangıçta 32 + 42 = 74\n",
    "çikolata olduğu anlamına gelir. 35 tanesi yenmiş. Yani toplamda hala 74 - 35 = 39 çikolata var. Cevap 39.\n",
    "S: Jason'un 20 lolipopu vardı. Denny'ye bazı lolipopları verdi. Şimdi Jason'un 12 lolipopu var. Jason, Denny'ye kaç lolipop verdi?\n",
    "C: Jason'un 20 lolipopu vardı. Şu anda sadece 12'si var, geri kalanını Denny'ye vermiş olmalı. Denny'ye verdiği\n",
    "lolipop sayısı 20 - 12 = 8 lolipop olmalı. Cevap 8.\n",
    "S: Shawn'un beş oyuncağı var. Noel'de annesinden ve babasından ikişer oyuncak aldı. Şimdi kaç oyuncağı var?\n",
    "C: 5 oyuncağı var. Anneden 2 oyuncak aldı, o zaman 5 + 2 = 7 oyuncağı oldu. Sonra babadan 2 daha aldı, yani\n",
    "toplamda 7 + 2 = 9 oyuncağı var. Cevap 9.\n",
    "S: Sunucu odasında dokuz bilgisayar vardı. Pazartesiden perşembeye kadar her gün beşer bilgisayar yüklendi. Şimdi sunucu odasında kaç bilgisayar var?\n",
    "C: Pazartesiden perşembeye 4 gün var. Her gün 5 bilgisayar eklendi. Bu, toplamda 4 * 5 = 20\n",
    "bilgisayar eklendiği anlamına gelir. Başlangıçta 9 bilgisayar vardı, şimdi 9 + 20 = 29 bilgisayar var.\n",
    "Cevap 29.\n",
    "S: Michael'in 58 golf topu vardı. Salı günü 23 golf topu kaybetti. Çarşamba günü 2 tane daha kaybetti. Çarşamba gününün sonunda kaç golf topu kalmıştır?\n",
    "C: Michael başlangıçta 58 topa sahipti. Salı günü 23 top kaybetti, o zaman onun 58 - 23 = 35 topu kalmıştır. Çarşamba\n",
    "günü 2 daha kaybettiği için şimdi 35 - 2 = 33 topu var. Cevap 33.\n",
    "S: Olivia'nın 23 doları var. Her biri 3 dolar olan beş bagel aldı. Ne kadar parası kaldı?\n",
    "C: Her biri 3 dolardan 5 bagel aldı. Bu, 15 dolar harcadığı anlamına gelir. 8 doları kaldı.\n",
    "S: Ben 12 yaşındayken kız kardeşim benim yaşımın yarısıydı. Şimdi 70 yaşındayım, kız kardeşim kaç yaşında?\n",
    "C:\n",
    "\"\"\"\n",
    "\n",
    "response = chat(prompt)\n",
    "print(response)"
   ]
  },
  {
   "cell_type": "markdown",
   "metadata": {},
   "source": [
    "### Generated Knowledge Prompting\n",
    "\n",
    "[Reference](https://arxiv.org/pdf/2110.08387.pdf)\n",
    "\n",
    "![](./images/generated-knowledge-prompting.png)"
   ]
  },
  {
   "cell_type": "code",
   "execution_count": 5,
   "metadata": {},
   "outputs": [
    {
     "name": "stdout",
     "output_type": "stream",
     "text": [
      "Güney Afrika daha büyüktür. Toplam yüzölçümü 1.221.037 km² iken, Kongo'nun yüzölçümü 342.000 km²'dir.\n"
     ]
    }
   ],
   "source": [
    "prompt = f\"\"\"\n",
    "Hangi ülke daha büyük, Kongo mu yoksa Güney Afrika mı?\n",
    "\"\"\"\n",
    "\n",
    "response = chat(prompt)\n",
    "print(response)"
   ]
  },
  {
   "cell_type": "code",
   "execution_count": 6,
   "metadata": {},
   "outputs": [
    {
     "name": "stdout",
     "output_type": "stream",
     "text": [
      "Güney Afrika, Afrika kıtasının güneyinde yer alan bir ülkedir. Toplam yüzölçümü 1.221.037 kilometrekaredir. Bu, Türkiye'nin yaklaşık 3 katı büyüklüğündedir. Güney Afrika, 9 eyaletten oluşur ve Johannesburg, Cape Town ve Pretoria gibi büyük şehirleri vardır.\n",
      "\n",
      "Kongo, Afrika kıtasının orta bölgesinde yer alan bir ülkedir. Toplam yüzölçümü 2.345.410 kilometrekaredir. Bu, Türkiye'nin yaklaşık 6 katı büyüklüğündedir. Kongo, iki ayrı ülkeden oluşur: Kongo Cumhuriyeti ve Demokratik Kongo Cumhuriyeti. Başkentleri sırasıyla Brazzaville ve Kinshasa'dır. Kongo, dünyanın en büyük yağmur ormanlarından biri olan Kongo Ormanı'na ev sahipliği yapar.\n"
     ]
    }
   ],
   "source": [
    "prompt = f\"\"\"\n",
    "Güney Afrika ve Kongo'nun büyüklükleri hakkında biraz bilgi verin:\n",
    "\"\"\"\n",
    "\n",
    "response = chat(prompt)\n",
    "print(response)"
   ]
  },
  {
   "cell_type": "code",
   "execution_count": 7,
   "metadata": {},
   "outputs": [
    {
     "name": "stdout",
     "output_type": "stream",
     "text": [
      "Kongo, Güney Afrika'dan daha büyüktür.\n"
     ]
    }
   ],
   "source": [
    "prompt = f\"\"\"\n",
    "Güney Afrika, Afrika kıtasının en güney kısmında yer alan bir ülkedir. Yaklaşık 1.219.090 kilometrekarelik bir toplam karasal alana sahiptir ve bu da onu dünyanın 25. en büyük ülkesi yapar. Güney Afrika, Namibya, Botsvana, Zimbabve, Mozambik ve Svaziland ile sınırlıdır ve Atlantik ve Hint Okyanusları boyunca 2.798 kilometre uzunluğunda bir sahil şeridine sahiptir.\n",
    "\n",
    "Öte yandan, Demokratik Kongo Cumhuriyeti, aynı zamanda Kongo-Kinşasa olarak da bilinir, Orta Afrika'da yer alan bir ülkedir. Yaklaşık 2.344.858 kilometrekarelik bir toplam karasal alana sahiptir ve bu da onu dünyanın 11. en büyük ülkesi yapar. Kongo, Angola, Zambiya, Tanzanya ve Uganda da dahil olmak üzere dokuz ülke ile sınırlıdır ve Atlantik Okyanusu boyunca 37 kilometre uzunluğunda bir sahil şeridine sahiptir.\n",
    "\n",
    "Büyüklük açısından, Kongo, Güney Afrika'dan neredeyse iki kat daha büyüktür. Ancak, Güney Afrika'nın daha yüksek bir nüfus yoğunluğu vardır; tahmini 59,3 milyon kişilik bir nüfusa sahipken, Kongo'nun tahmini nüfusu 89,6 milyon kişidir.\n",
    "\n",
    "Hangi ülke daha büyük, Kongo mu yoksa Güney Afrika mı?\n",
    "\"\"\"\n",
    "\n",
    "response = chat(prompt)\n",
    "print(response)"
   ]
  },
  {
   "cell_type": "markdown",
   "metadata": {},
   "source": [
    "### Tree of Thoughts (ToT)\n",
    "\n",
    "![](./images/tot.png)\n",
    "\n",
    "\n",
    "- [References 1](https://arxiv.org/abs/2305.10601)\n",
    "- [References 2](https://arxiv.org/abs/2305.08291)\n",
    "- [Prompt reference](https://github.com/dave1010/tree-of-thought-prompting)\n"
   ]
  },
  {
   "cell_type": "code",
   "execution_count": 8,
   "metadata": {},
   "outputs": [
    {
     "name": "stdout",
     "output_type": "stream",
     "text": [
      "Sonuç olarak, uzmanlar arasında farklı düşünceler ve tartışmalar olsa da, çoğunlukla Güney Afrika'nın Kongo'dan daha büyük olduğu sonucuna varılmıştır. Ancak, bu sonuç kesin değildir ve uzmanlar arasında farklı görüşler olabilir.\n"
     ]
    }
   ],
   "source": [
    "prompt = f\"\"\"\n",
    "Beş farklı uzmanın bu soruyu cevapladığını hayal edin.\n",
    "Tüm uzmanlar düşünme süreçlerinin 1 adımını yazacak,\n",
    "sonra bunu grupla paylaşacaklar.\n",
    "Daha sonra tüm uzmanlar bir sonraki adıma geçecek, ve böyle devam edecek.\n",
    "Eğer herhangi bir uzman, herhangi bir noktada yanıldığını fark ederse, o zaman ayrılacak.\n",
    "Soru şu...\n",
    "\n",
    "Hangi ülke daha büyük, Kongo mu yoksa Güney Afrika mı?\n",
    "\n",
    "Bana son bir sonuç verin.\n",
    "\"\"\"\n",
    "\n",
    "response = chat(prompt)\n",
    "print(response)"
   ]
  },
  {
   "cell_type": "markdown",
   "metadata": {},
   "source": []
  }
 ],
 "metadata": {
  "kernelspec": {
   "display_name": "openai-qna-env",
   "language": "python",
   "name": "python3"
  },
  "language_info": {
   "codemirror_mode": {
    "name": "ipython",
    "version": 3
   },
   "file_extension": ".py",
   "mimetype": "text/x-python",
   "name": "python",
   "nbconvert_exporter": "python",
   "pygments_lexer": "ipython3",
   "version": "3.9.6"
  },
  "orig_nbformat": 4,
  "vscode": {
   "interpreter": {
    "hash": "c4ee1bbf3137c7ea9420c4fd488a55642063e5739fe2a7286130d9ba47405b69"
   }
  }
 },
 "nbformat": 4,
 "nbformat_minor": 2
}
