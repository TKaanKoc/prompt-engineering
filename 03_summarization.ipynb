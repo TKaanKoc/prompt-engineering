{
 "cells": [
  {
   "cell_type": "code",
   "execution_count": 11,
   "metadata": {},
   "outputs": [],
   "source": [
    "import os\n",
    "import tiktoken\n",
    "import openai  # Ben bu çalışmada, openai kütüphanesinin \"openai==0.27.6\" sürümünü kullandım.\n",
    "from dotenv import load_dotenv\n",
    "import warnings\n",
    "from requests.packages.urllib3.exceptions import NotOpenSSLWarning\n",
    "\n",
    "warnings.simplefilter('ignore', NotOpenSSLWarning)\n",
    "load_dotenv()\n",
    "\n",
    "# Daha önce azure üzerinde deploy ettiğim gpt-3.5 Turbo modelini kullanacağım.\n",
    "openai.api_type = \"azure\"\n",
    "openai.api_base = os.environ.get(\"OPENAI_API_BASE\")\n",
    "openai.api_key = os.environ.get(\"OPENAI_API_KEY\")\n",
    "openai.api_version = \"2023-05-15\"\n",
    "\n",
    "DEPLOYMENT_NAME =  os.environ.get(\"OPENAI_CHAT_DEPLOYMENT_NAME\") "
   ]
  },
  {
   "cell_type": "code",
   "execution_count": 2,
   "metadata": {},
   "outputs": [],
   "source": [
    "def chat(prompt, model=DEPLOYMENT_NAME):\n",
    "    messages = [{\"role\": \"user\", \"content\": prompt}]\n",
    "    response = openai.ChatCompletion.create(\n",
    "        engine= DEPLOYMENT_NAME,\n",
    "        messages=messages,\n",
    "        temperature=0, \n",
    "    )\n",
    "    return response.choices[0].message[\"content\"]"
   ]
  },
  {
   "cell_type": "markdown",
   "metadata": {},
   "source": [
    "### Summarization"
   ]
  },
  {
   "cell_type": "code",
   "execution_count": 7,
   "metadata": {},
   "outputs": [
    {
     "name": "stdout",
     "output_type": "stream",
     "text": [
      "Malatya seyahatimde viral enfeksiyon kaptım, antibiyotik aldım ama iyileşemedim. İki kez acile gittim ve şimdi yorgun hissediyorum.\n",
      "--------------------------------------------------\n",
      "Response uzunluğu: 17\n"
     ]
    }
   ],
   "source": [
    "sampletext_tr = \"\"\"\n",
    "Mayıs ayında Malatya'ya yaptığım gezi sırasında kendimi biraz rahatsız hissetmeye başladım. Boğaz ağrısı ve hafif öksürük gibi semptomlar yaşadım. Eve döndükten sonra durumum ciddi şekilde kötüleşti. Ateşim çıktı ve çok kötü hissettim. Bir doktora danıştım, doktor bana antibiyotik reçete etti. \n",
    "Birkaç gün kendimi daha iyi hissetmeme rağmen, sağlığım kısa süre sonra tekrar kötüleşti. Acil servise iki kez gidip damar yoluyla sıvı ve ilaç tedavisi aldıktan sonra, \n",
    "yavaş yavaş iyileşmeye başardım. Teşhis viral enfeksiyon oldu ve tamamen iyileşmemin birkaç hafta sürebileceği söylendi. \n",
    "İşte buradayız, Mayıs sonu ve hala tam anlamıyla normale dönemedim. Hala yorgun hissediyorum.\n",
    "\"\"\"\n",
    "\n",
    "prompt = f\"\"\"\n",
    "Üç çizgi arasındaki metni 20 kelime veya daha azı ile özetleyin. Response uzunluğu max 20 kelime olmalıdır.\n",
    "---\n",
    "{sampletext_tr}\n",
    "---\n",
    "\"\"\"\n",
    "\n",
    "response = chat(prompt)\n",
    "print(response)\n",
    "print(\"--------------------------------------------------\")\n",
    "print(\"Response uzunluğu:\", len(response.split()))"
   ]
  }
 ],
 "metadata": {
  "kernelspec": {
   "display_name": "openai-qna-env",
   "language": "python",
   "name": "python3"
  },
  "language_info": {
   "codemirror_mode": {
    "name": "ipython",
    "version": 3
   },
   "file_extension": ".py",
   "mimetype": "text/x-python",
   "name": "python",
   "nbconvert_exporter": "python",
   "pygments_lexer": "ipython3",
   "version": "3.9.6"
  },
  "orig_nbformat": 4,
  "vscode": {
   "interpreter": {
    "hash": "c4ee1bbf3137c7ea9420c4fd488a55642063e5739fe2a7286130d9ba47405b69"
   }
  }
 },
 "nbformat": 4,
 "nbformat_minor": 2
}
